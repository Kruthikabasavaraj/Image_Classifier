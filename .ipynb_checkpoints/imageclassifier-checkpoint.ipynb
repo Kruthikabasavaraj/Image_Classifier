{
 "cells": [
  {
   "cell_type": "code",
   "execution_count": 1,
   "id": "413bbce5-f90f-4985-a0ba-743813cf04df",
   "metadata": {},
   "outputs": [
    {
     "name": "stdout",
     "output_type": "stream",
     "text": [
      "This is my first Deep CNN Image Classifier Project\n"
     ]
    }
   ],
   "source": [
    "print(\"This is my first Deep CNN Image Classifier Project\")"
   ]
  },
  {
   "cell_type": "code",
   "execution_count": 2,
   "id": "37d0da3b-6ea6-4854-9024-95a381e060c4",
   "metadata": {},
   "outputs": [],
   "source": [
    "import tensorflow as tf\n",
    "import os"
   ]
  },
  {
   "cell_type": "code",
   "execution_count": 8,
   "id": "3eec0630-a69d-475b-b670-667f9cdac980",
   "metadata": {},
   "outputs": [],
   "source": [
    "gpus = tf.config.list_physical_devices('GPU')\n",
    "*can also check For cpu inplace og gpu"
   ]
  },
  {
   "cell_type": "code",
   "execution_count": 9,
   "id": "674ce229-5d43-4f75-a615-d93b671765bd",
   "metadata": {},
   "outputs": [],
   "source": [
    "for gpu in gpus:\n",
    "    tf.config.experimental.set_memory_growth(gpu,True)"
   ]
  },
  {
   "cell_type": "code",
   "execution_count": 10,
   "id": "0cdaadd1-75c3-4cae-8940-e30e659f2f9e",
   "metadata": {},
   "outputs": [
    {
     "data": {
      "text/plain": [
       "[PhysicalDevice(name='/physical_device:GPU:0', device_type='GPU')]"
      ]
     },
     "execution_count": 10,
     "metadata": {},
     "output_type": "execute_result"
    }
   ],
   "source": [
    "gpus"
   ]
  },
  {
   "cell_type": "code",
   "execution_count": 12,
   "id": "f4309d8c-c0df-4da1-b66a-23a013dd5582",
   "metadata": {},
   "outputs": [
    {
     "data": {
      "text/plain": [
       "1"
      ]
     },
     "execution_count": 12,
     "metadata": {},
     "output_type": "execute_result"
    }
   ],
   "source": [
    "len(gpus)"
   ]
  },
  {
   "cell_type": "code",
   "execution_count": null,
   "id": "42e941b9-c9b1-4c6a-966c-61fa7000db5d",
   "metadata": {},
   "outputs": [],
   "source": []
  }
 ],
 "metadata": {
  "kernelspec": {
   "display_name": "Python 3 (ipykernel)",
   "language": "python",
   "name": "python3"
  },
  "language_info": {
   "codemirror_mode": {
    "name": "ipython",
    "version": 3
   },
   "file_extension": ".py",
   "mimetype": "text/x-python",
   "name": "python",
   "nbconvert_exporter": "python",
   "pygments_lexer": "ipython3",
   "version": "3.10.14"
  }
 },
 "nbformat": 4,
 "nbformat_minor": 5
}
